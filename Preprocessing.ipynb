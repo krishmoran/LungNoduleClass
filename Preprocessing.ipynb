{
 "cells": [
  {
   "cell_type": "code",
   "execution_count": 3,
   "metadata": {},
   "outputs": [
    {
     "name": "stdout",
     "output_type": "stream",
     "text": [
      "Requirement already satisfied: opencv-python in c:\\users\\krish\\appdata\\local\\programs\\python\\python37\\lib\\site-packages (4.2.0.32)\n",
      "Requirement already satisfied: numpy>=1.14.5 in c:\\users\\krish\\appdata\\local\\programs\\python\\python37\\lib\\site-packages (from opencv-python) (1.17.3)\n"
     ]
    },
    {
     "name": "stderr",
     "output_type": "stream",
     "text": [
      "WARNING: You are using pip version 19.2.3, however version 20.0.2 is available.\n",
      "You should consider upgrading via the 'python -m pip install --upgrade pip' command.\n"
     ]
    }
   ],
   "source": [
    "!pip install opencv-python"
   ]
  },
  {
   "cell_type": "code",
   "execution_count": 6,
   "metadata": {},
   "outputs": [
    {
     "name": "stdout",
     "output_type": "stream",
     "text": [
      "Requirement already satisfied: pandas in c:\\users\\krish\\appdata\\local\\programs\\python\\python37\\lib\\site-packages (1.0.1)\n",
      "Requirement already satisfied: python-dateutil>=2.6.1 in c:\\users\\krish\\appdata\\local\\programs\\python\\python37\\lib\\site-packages (from pandas) (2.8.1)\n",
      "Requirement already satisfied: numpy>=1.13.3 in c:\\users\\krish\\appdata\\local\\programs\\python\\python37\\lib\\site-packages (from pandas) (1.17.3)\n",
      "Requirement already satisfied: pytz>=2017.2 in c:\\users\\krish\\appdata\\local\\programs\\python\\python37\\lib\\site-packages (from pandas) (2019.3)\n",
      "Requirement already satisfied: six>=1.5 in c:\\users\\krish\\appdata\\local\\programs\\python\\python37\\lib\\site-packages (from python-dateutil>=2.6.1->pandas) (1.13.0)\n"
     ]
    },
    {
     "name": "stderr",
     "output_type": "stream",
     "text": [
      "WARNING: You are using pip version 19.2.3, however version 20.0.2 is available.\n",
      "You should consider upgrading via the 'python -m pip install --upgrade pip' command.\n"
     ]
    }
   ],
   "source": [
    "!pip install pandas"
   ]
  },
  {
   "cell_type": "code",
   "execution_count": 1,
   "metadata": {},
   "outputs": [],
   "source": [
    "import numpy as np\n",
    "import cv2\n",
    "import os\n",
    "import time, sys\n",
    "import pandas as pd\n",
    "\n",
    "# Constants\n",
    "input_all_patients = 'Documents/Images_png'\n",
    "#input_patient_folder = '/Users/krishmoran/Documents/LungClassification/Krish/SamplePatients/Patient_4274'\n",
    "slice_info = 'Downloads/DL_info.csv'"
   ]
  },
  {
   "cell_type": "code",
   "execution_count": 2,
   "metadata": {},
   "outputs": [],
   "source": [
    "# Hidden File Ignore\n",
    "# <editor-fold desc=\"Hidden File Ignore\">\n",
    "def listdir_nohidden(path):\n",
    "    for f in os.listdir(path):\n",
    "        if not f.startswith('.'):\n",
    "            yield f"
   ]
  },
  {
   "cell_type": "code",
   "execution_count": 7,
   "metadata": {},
   "outputs": [],
   "source": [
    "# Loads and processes a slice of a CT image given its filepath\n",
    "def load_image(fpath):\n",
    "    # loads a gray slice given its path and reduces pixel intensity to obtain original HU values\n",
    "    if os.path.exists(fpath):\n",
    "        img_gray = cv2.imread(fpath)\n",
    "        img_gray = img_gray.astype(np.float) - 32768\n",
    "    else:\n",
    "        raise FileNotFoundError\n",
    "        \n",
    "        \n",
    "    # Normalizes the image pixels within the range [0,1]\n",
    "    # and converts grayscale image to color image format (2 array -> BGR)\n",
    "    normalizedImg = np.zeros((512, 512))\n",
    "    normalizedImg = cv2.normalize(img_gray, normalizedImg, 0, 1, cv2.NORM_MINMAX)\n",
    "\n",
    "    return normalizedImg\n",
    "\n"
   ]
  },
  {
   "cell_type": "code",
   "execution_count": 8,
   "metadata": {},
   "outputs": [],
   "source": [
    "# given the folder path and filename (e.g. '047.png'), returns the full filepath (OS X Dir)\n",
    "def get_file_path(folder, filename):\n",
    "    return folder + '/' + filename\n"
   ]
  },
  {
   "cell_type": "code",
   "execution_count": 22,
   "metadata": {},
   "outputs": [],
   "source": [
    "# to load and stack 5 slices, including the indicated key slice and the 2 indexed above and below\n",
    "# key_slice is inputted as the index of the image \n",
    "def stack_slices(patient_folder, key_slice):\n",
    "    patient1_slices = []\n",
    "\n",
    "    slices = list(listdir_nohidden(patient_folder))\n",
    "    slices.sort()\n",
    "\n",
    "    # creates a new list of the corresponding slice indices (ints for easier searcing\n",
    "    sl_indices = []\n",
    "    for str in slices:\n",
    "        sl_indices.append(int(str[:3]))\n",
    "\n",
    "    # determines the first (lowest indexed) slice to be added\n",
    "    # slice = 0 (top/superior)\n",
    "    # inferior slice = key_slice + 2\n",
    "    sup_slice = key_slice - 2\n",
    "\n",
    "    # divides print info for each patient when displaying all of them\n",
    "    print('--------------------------')\n",
    "    f = patient_folder[-10:]\n",
    "    print('PATIENT' + \" \" + f[:4])\n",
    "\n",
    "    for i in range(len(slices)):\n",
    "        if sl_indices[i] == sup_slice:\n",
    "            x = load_image(get_file_path(patient_folder, slices[i]))\n",
    "            patient1_slices.append(x)\n",
    "            print(\"Slice Extracted:\", sl_indices[i])\n",
    "\n",
    "            # once the superior slice is found, the subsequent 4 slices are added to the list\n",
    "            for j in range(i + 1, i + 5):\n",
    "                x = load_image(get_file_path(patient_folder, slices[j]))\n",
    "                print(\"Slice Extracted:\", sl_indices[j])\n",
    "                patient1_slices.append(x)\n",
    "                \n",
    "\n",
    "    # im = np.concatenate(patient1_slices)\n",
    "    final_img = np.stack(patient1_slices)\n",
    "    return final_img.shape"
   ]
  },
  {
   "cell_type": "code",
   "execution_count": 23,
   "metadata": {},
   "outputs": [],
   "source": [
    "# Retrieves the list of lung patients from CSV and creates a \n",
    "# 2D array with their folder name and the corresponding key slice index\n",
    "def get_patient_list():\n",
    "\n",
    "    # Loads the patient scan info CSV \n",
    "    df = pd.read_csv(slice_info)\n",
    "\n",
    "    # Sorts the dataset by only lung scans\n",
    "    df1 = df.loc[(df['Coarse_lesion_type'] == 5)]\n",
    "\n",
    "    patient_indices = [] # used to keep frequency of each patient folder = 1\n",
    "    unique_patients = [] # list of exact folder names without duplicates of patients\n",
    "    key_slices = [] # list of the corresponding key slice indices\n",
    "    file_names = df1.File_name\n",
    "    for fname in file_names:\n",
    "        if fname[:6] not in patient_indices: \n",
    "            patient_indices.append(fname[:6]) # adds patient index to freq array, prevents duplicates \n",
    "            unique_patients.append(fname[:12]) # adds the part of the filename which represents the folder name\n",
    "            key_slices.append(int(fname[13:16])) # adds the key slice from the filename into an array\n",
    "    \n",
    "    # stacks the two lists(patient list and corresponding key slices) to make a 2D array\n",
    "    pats_w_key_slices = np.stack((unique_patients, key_slices), axis = -1)\n",
    "    return(pats_w_key_slices)"
   ]
  },
  {
   "cell_type": "code",
   "execution_count": 24,
   "metadata": {},
   "outputs": [],
   "source": [
    "# returns the full folder path given the main path and the folder name \n",
    "def get_folder_path(ultimate_path, folder_name):\n",
    "    return ultimate_path + '/' + folder_name\n"
   ]
  },
  {
   "cell_type": "code",
   "execution_count": 25,
   "metadata": {},
   "outputs": [],
   "source": [
    "# loads and processes all lung patients stated in the info CSV\n",
    "def load_all_patients(all_patients_path):\n",
    "    patient_list = get_patient_list()\n",
    "    preprocessed_patients = []\n",
    "    for i in range (len(patient_list)):\n",
    "        pat_folder = get_folder_path(all_patients_path, patient_list[i, 0])\n",
    "        key_slice = int(patient_list[i, 1])\n",
    "        if os.path.exists(pat_folder):\n",
    "            preprocessed_patients.append(stack_slices(pat_folder, key_slice))\n",
    "    print('All available patient images have been processed')\n",
    "    return preprocessed_patients"
   ]
  },
  {
   "cell_type": "code",
   "execution_count": 26,
   "metadata": {},
   "outputs": [
    {
     "name": "stdout",
     "output_type": "stream",
     "text": [
      "--------------------------\n",
      "PATIENT 0097\n",
      "Slice Extracted: 132\n",
      "Slice Extracted: 133\n",
      "Slice Extracted: 134\n",
      "Slice Extracted: 135\n",
      "Slice Extracted: 136\n",
      "--------------------------\n",
      "PATIENT 0098\n",
      "Slice Extracted: 133\n",
      "Slice Extracted: 134\n",
      "Slice Extracted: 135\n",
      "Slice Extracted: 136\n",
      "Slice Extracted: 137\n",
      "--------------------------\n",
      "PATIENT 0105\n",
      "Slice Extracted: 42\n",
      "Slice Extracted: 43\n",
      "Slice Extracted: 44\n",
      "Slice Extracted: 45\n",
      "Slice Extracted: 46\n",
      "--------------------------\n",
      "PATIENT 0120\n",
      "Slice Extracted: 49\n",
      "Slice Extracted: 50\n",
      "Slice Extracted: 51\n",
      "Slice Extracted: 52\n",
      "Slice Extracted: 53\n",
      "All available patient images have been processed\n"
     ]
    },
    {
     "data": {
      "text/plain": [
       "[(5, 512, 512, 3), (5, 512, 512, 3), (5, 512, 512, 3), (5, 512, 512, 3)]"
      ]
     },
     "execution_count": 26,
     "metadata": {},
     "output_type": "execute_result"
    }
   ],
   "source": [
    "# to test, enter path of folder with multiple patient folders inside (constant at the top)\n",
    "load_all_patients(input_all_patients)"
   ]
  },
  {
   "cell_type": "code",
   "execution_count": null,
   "metadata": {},
   "outputs": [],
   "source": []
  }
 ],
 "metadata": {
  "kernelspec": {
   "display_name": "Python 3",
   "language": "python",
   "name": "python3"
  },
  "language_info": {
   "codemirror_mode": {
    "name": "ipython",
    "version": 3
   },
   "file_extension": ".py",
   "mimetype": "text/x-python",
   "name": "python",
   "nbconvert_exporter": "python",
   "pygments_lexer": "ipython3",
   "version": "3.7.5"
  }
 },
 "nbformat": 4,
 "nbformat_minor": 4
}
